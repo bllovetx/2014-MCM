{
 "nbformat": 4,
 "nbformat_minor": 2,
 "metadata": {
  "language_info": {
   "name": "python",
   "codemirror_mode": {
    "name": "ipython",
    "version": 3
   },
   "version": "3.7.4-final"
  },
  "orig_nbformat": 2,
  "file_extension": ".py",
  "mimetype": "text/x-python",
  "name": "python",
  "npconvert_exporter": "python",
  "pygments_lexer": "ipython3",
  "version": 3,
  "kernelspec": {
   "name": "python3",
   "display_name": "Python 3"
  }
 },
 "cells": [
  {
   "cell_type": "code",
   "execution_count": 107,
   "metadata": {},
   "outputs": [],
   "source": [
    "# init\n",
    "\n",
    "from car import Car\n",
    "from settings import Settings\n",
    "from safe import Safe_dis\n",
    "safe_dis = 10\n",
    "settings = Settings('heavy')\n",
    "# should be add to Settings\n",
    "settings.switch_time = 10\n",
    "\n",
    "car_1 = Car(settings, 10, 10, 0, 10, 10)\n",
    "car_2 = Car(settings, 10, 10, 1, 10, 10)\n",
    "car_3 = Car(settings, 10, 10, 0, 10, 10)\n",
    "q = [car_1, car_2, car_3]\n"
   ]
  },
  {
   "cell_type": "code",
   "execution_count": 108,
   "metadata": {},
   "outputs": [
    {
     "name": "stdout",
     "output_type": "stream",
     "text": "True\n"
    }
   ],
   "source": [
    "# Car: add x_switch\n",
    "def check_lane(car, lane) :\n",
    "    if car.x == lane or (car.is_switch and car.x_switch == lane) :\n",
    "        return True\n",
    "    return False\n",
    "\n",
    "# test check_lane\n",
    "car_lane = car_1 = Car(Settings(), 10, 10, 0, 10, 10)\n",
    "car_lane.is_switch = 1\n",
    "car_lane.x_switch = 1\n",
    "print(check_lane(car_lane, 1))\n",
    "\n",
    "\n"
   ]
  },
  {
   "cell_type": "code",
   "execution_count": 109,
   "metadata": {},
   "outputs": [],
   "source": [
    "# check_switch | direct: -1(x--) 1(x++)\n",
    "\n",
    "def check_switch(direct, q, i) :\n",
    "    dest = q[i].x + direct\n",
    "\n",
    "    if dest >= 0 and dest <  :\n",
    "        former = i + 1\n",
    "        latter = i - 1\n",
    "        lenq = len(q)\n",
    "\n",
    "        while former < lenq :\n",
    "            if check_lane(q[former], q[i].x + direct) :\n",
    "                break\n",
    "            former += 1\n",
    "        test_former = check_safe(q, i, former) if former < lenq else True\n",
    "\n",
    "        while latter >= 0 :\n",
    "            if check_lane(q[latter], q[i].x + direct) :\n",
    "                break\n",
    "            latter -= 1\n",
    "        test_latter = check_safe(q, i, latter) if latter >= 0 else True\n",
    "\n",
    "        if test_former and test_latter :\n",
    "            return True\n",
    "    return False\n",
    "\n",
    "# check_safe | true: safe false: unsafe\n",
    "def check_safe(q, i, j):\n",
    "    safe_dis = Safe_dis(q, i, j) + (q[j].length + q[i].length)/2\n",
    "    if i < j:\n",
    "        return (q[j].y - q[i].y) > safe_dis or q[i].speed < q[j].speed\n",
    "    else:\n",
    "        return (q[i].y - q[j].y) > safe_dis or q[j].speed < q[i].speed\n"
   ]
  },
  {
   "cell_type": "code",
   "execution_count": 111,
   "metadata": {},
   "outputs": [
    {
     "name": "stdout",
     "output_type": "stream",
     "text": "False\nTrue\n"
    }
   ],
   "source": [
    "# test check_switch\n",
    "\n",
    "car_1.y = 90\n",
    "car_2.y = 110\n",
    "car_3.y = 130\n",
    "print(check_switch(q, 1))\n",
    "\n",
    "car_1.y = 90 -1\n",
    "car_2.y = 110\n",
    "car_3.y = 130 +1\n",
    "print(check_switch(q, 1))"
   ]
  },
  {
   "cell_type": "code",
   "execution_count": 112,
   "metadata": {},
   "outputs": [],
   "source": [
    "# direct = -1: x--(rignt) | direct = 1 : x++(left)\n",
    "def switch_lane(direct, car) :\n",
    "    car.x_switch = car.x\n",
    "    car.x += direct\n",
    "    car.is_switch = 1\n"
   ]
  },
  {
   "cell_type": "code",
   "execution_count": 113,
   "metadata": {},
   "outputs": [],
   "source": [
    "# check_pass | True: call-pass \n",
    "def check_pass(q, i) :\n",
    "    former = i + 1\n",
    "    lenq = len(q)\n",
    "\n",
    "    while former < lenq :\n",
    "        if check_lane(q[former], q[i].x) :\n",
    "            break\n",
    "        former += 1\n",
    "    if former < lenq and (not check_safe(q, i, former)) :\n",
    "        return True\n",
    "    return False"
   ]
  },
  {
   "cell_type": "code",
   "execution_count": 114,
   "metadata": {},
   "outputs": [],
   "source": [
    "# test check_pass\n",
    "car_1.speed = 100\n",
    "car_1.y = 100\n",
    "car_2.y = 110\n",
    "car_3.y = 120 - 1\n",
    "assert check_pass([car_1, car_2, car_3], 0) == True"
   ]
  },
  {
   "cell_type": "code",
   "execution_count": null,
   "metadata": {},
   "outputs": [],
   "source": []
  }
 ]
}